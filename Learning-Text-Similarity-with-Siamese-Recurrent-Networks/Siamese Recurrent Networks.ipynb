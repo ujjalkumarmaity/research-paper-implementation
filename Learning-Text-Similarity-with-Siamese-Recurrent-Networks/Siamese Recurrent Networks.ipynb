{
  "cells": [
    {
      "cell_type": "markdown",
      "metadata": {
        "id": "view-in-github",
        "colab_type": "text"
      },
      "source": [
        "<a href=\"https://colab.research.google.com/github/ujjalkumarmaity/research-paper-implementation/blob/main/Learning-Text-Similarity-with-Siamese-Recurrent-Networks/Siamese%20Recurrent%20Networks.ipynb\" target=\"_parent\"><img src=\"https://colab.research.google.com/assets/colab-badge.svg\" alt=\"Open In Colab\"/></a>"
      ]
    },
    {
      "cell_type": "markdown",
      "id": "9d1e0721",
      "metadata": {
        "id": "9d1e0721"
      },
      "source": [
        "## Learning Text Similarity with Siamese Recurrent Networks\n",
        "\n",
        "https://aclanthology.org/W16-1617.pdf"
      ]
    },
    {
      "cell_type": "markdown",
      "source": [],
      "metadata": {
        "id": "LWl5ugJX1Dyx"
      },
      "id": "LWl5ugJX1Dyx"
    },
    {
      "cell_type": "markdown",
      "source": [],
      "metadata": {
        "id": "yKNqEnnE1D2J"
      },
      "id": "yKNqEnnE1D2J"
    },
    {
      "cell_type": "markdown",
      "id": "e95ebf68",
      "metadata": {
        "id": "e95ebf68"
      },
      "source": [
        "<!-- ![image.png](attachment:image.png) -->\n",
        "<img src = 'download.png'>"
      ]
    },
    {
      "cell_type": "code",
      "execution_count": 1,
      "id": "c33b88ae",
      "metadata": {
        "id": "c33b88ae"
      },
      "outputs": [],
      "source": [
        "import pandas as pd\n",
        "import numpy as np\n",
        "import keras\n",
        "from keras.preprocessing.text import Tokenizer\n",
        "from keras.utils import pad_sequences\n",
        "from keras.models import Model\n",
        "from keras import layers\n",
        "from keras import backend as K\n",
        "import random\n",
        "from sklearn.model_selection import train_test_split\n",
        "from keras.optimizers import SGD\n",
        "import tensorflow as tf"
      ]
    },
    {
      "cell_type": "code",
      "execution_count": 2,
      "id": "9f46b003",
      "metadata": {
        "id": "9f46b003"
      },
      "outputs": [],
      "source": [
        "def prepare_dataset(path):\n",
        "    df = pd.read_csv(path, sep='\\t', lineterminator='\\n',header=None)\n",
        "    df = df.rename(columns = {0:'name1',1:'name2',3:'label'})\n",
        "    x1 = []\n",
        "    x2 = []\n",
        "    label = []\n",
        "    name1 = df.name1.values.tolist()\n",
        "    name2 = df.name2.values.tolist()\n",
        "    for n1,n2 in zip(name1,name2):\n",
        "        if random.random()>0.5:\n",
        "            x1.append(n1)\n",
        "            x2.append(n2)\n",
        "        else:\n",
        "            x1.append(n2)\n",
        "            x2.append(n1)\n",
        "        label.append(1)\n",
        "    all_name = np.asarray(name1+name2)\n",
        "    shuffle_name = all_name[np.random.permutation(np.arange(len(all_name)))]\n",
        "    for n1,n2 in zip(all_name,shuffle_name):\n",
        "        if random.random()>0.5:\n",
        "            x1.append(n1)\n",
        "            x2.append(n2)\n",
        "        else:\n",
        "            x1.append(n2)\n",
        "            x2.append(n1)\n",
        "        label.append(0)\n",
        "    return pd.DataFrame({'name1':x1,'name2':x2,'label':label})"
      ]
    },
    {
      "cell_type": "code",
      "execution_count": 3,
      "id": "6c76118a",
      "metadata": {
        "id": "6c76118a"
      },
      "outputs": [],
      "source": [
        "url = 'https://raw.githubusercontent.com/ujjalkumarmaity/research-paper-implementation/main/Learning-Text-Similarity-with-Siamese-Recurrent-Networks/person_match.train2'\n",
        "df = prepare_dataset(url)"
      ]
    },
    {
      "cell_type": "code",
      "source": [
        "df.head(2)"
      ],
      "metadata": {
        "id": "ErvP7hDRDSqv",
        "outputId": "f0b053ba-0997-46d5-bdd1-cd99accec291",
        "colab": {
          "base_uri": "https://localhost:8080/",
          "height": 112
        }
      },
      "id": "ErvP7hDRDSqv",
      "execution_count": 4,
      "outputs": [
        {
          "output_type": "execute_result",
          "data": {
            "text/plain": [
              "        name1                                    name2  label\n",
              "0  Fedorowicz                         Taras Fedorovych      1\n",
              "1      Rodger  Alan Rodger, Baron Rodger of Earlsferry      1"
            ],
            "text/html": [
              "\n",
              "  <div id=\"df-92a8ed21-ebd3-4137-905e-ca7cc49870dd\" class=\"colab-df-container\">\n",
              "    <div>\n",
              "<style scoped>\n",
              "    .dataframe tbody tr th:only-of-type {\n",
              "        vertical-align: middle;\n",
              "    }\n",
              "\n",
              "    .dataframe tbody tr th {\n",
              "        vertical-align: top;\n",
              "    }\n",
              "\n",
              "    .dataframe thead th {\n",
              "        text-align: right;\n",
              "    }\n",
              "</style>\n",
              "<table border=\"1\" class=\"dataframe\">\n",
              "  <thead>\n",
              "    <tr style=\"text-align: right;\">\n",
              "      <th></th>\n",
              "      <th>name1</th>\n",
              "      <th>name2</th>\n",
              "      <th>label</th>\n",
              "    </tr>\n",
              "  </thead>\n",
              "  <tbody>\n",
              "    <tr>\n",
              "      <th>0</th>\n",
              "      <td>Fedorowicz</td>\n",
              "      <td>Taras Fedorovych</td>\n",
              "      <td>1</td>\n",
              "    </tr>\n",
              "    <tr>\n",
              "      <th>1</th>\n",
              "      <td>Rodger</td>\n",
              "      <td>Alan Rodger, Baron Rodger of Earlsferry</td>\n",
              "      <td>1</td>\n",
              "    </tr>\n",
              "  </tbody>\n",
              "</table>\n",
              "</div>\n",
              "    <div class=\"colab-df-buttons\">\n",
              "\n",
              "  <div class=\"colab-df-container\">\n",
              "    <button class=\"colab-df-convert\" onclick=\"convertToInteractive('df-92a8ed21-ebd3-4137-905e-ca7cc49870dd')\"\n",
              "            title=\"Convert this dataframe to an interactive table.\"\n",
              "            style=\"display:none;\">\n",
              "\n",
              "  <svg xmlns=\"http://www.w3.org/2000/svg\" height=\"24px\" viewBox=\"0 -960 960 960\">\n",
              "    <path d=\"M120-120v-720h720v720H120Zm60-500h600v-160H180v160Zm220 220h160v-160H400v160Zm0 220h160v-160H400v160ZM180-400h160v-160H180v160Zm440 0h160v-160H620v160ZM180-180h160v-160H180v160Zm440 0h160v-160H620v160Z\"/>\n",
              "  </svg>\n",
              "    </button>\n",
              "\n",
              "  <style>\n",
              "    .colab-df-container {\n",
              "      display:flex;\n",
              "      gap: 12px;\n",
              "    }\n",
              "\n",
              "    .colab-df-convert {\n",
              "      background-color: #E8F0FE;\n",
              "      border: none;\n",
              "      border-radius: 50%;\n",
              "      cursor: pointer;\n",
              "      display: none;\n",
              "      fill: #1967D2;\n",
              "      height: 32px;\n",
              "      padding: 0 0 0 0;\n",
              "      width: 32px;\n",
              "    }\n",
              "\n",
              "    .colab-df-convert:hover {\n",
              "      background-color: #E2EBFA;\n",
              "      box-shadow: 0px 1px 2px rgba(60, 64, 67, 0.3), 0px 1px 3px 1px rgba(60, 64, 67, 0.15);\n",
              "      fill: #174EA6;\n",
              "    }\n",
              "\n",
              "    .colab-df-buttons div {\n",
              "      margin-bottom: 4px;\n",
              "    }\n",
              "\n",
              "    [theme=dark] .colab-df-convert {\n",
              "      background-color: #3B4455;\n",
              "      fill: #D2E3FC;\n",
              "    }\n",
              "\n",
              "    [theme=dark] .colab-df-convert:hover {\n",
              "      background-color: #434B5C;\n",
              "      box-shadow: 0px 1px 3px 1px rgba(0, 0, 0, 0.15);\n",
              "      filter: drop-shadow(0px 1px 2px rgba(0, 0, 0, 0.3));\n",
              "      fill: #FFFFFF;\n",
              "    }\n",
              "  </style>\n",
              "\n",
              "    <script>\n",
              "      const buttonEl =\n",
              "        document.querySelector('#df-92a8ed21-ebd3-4137-905e-ca7cc49870dd button.colab-df-convert');\n",
              "      buttonEl.style.display =\n",
              "        google.colab.kernel.accessAllowed ? 'block' : 'none';\n",
              "\n",
              "      async function convertToInteractive(key) {\n",
              "        const element = document.querySelector('#df-92a8ed21-ebd3-4137-905e-ca7cc49870dd');\n",
              "        const dataTable =\n",
              "          await google.colab.kernel.invokeFunction('convertToInteractive',\n",
              "                                                    [key], {});\n",
              "        if (!dataTable) return;\n",
              "\n",
              "        const docLinkHtml = 'Like what you see? Visit the ' +\n",
              "          '<a target=\"_blank\" href=https://colab.research.google.com/notebooks/data_table.ipynb>data table notebook</a>'\n",
              "          + ' to learn more about interactive tables.';\n",
              "        element.innerHTML = '';\n",
              "        dataTable['output_type'] = 'display_data';\n",
              "        await google.colab.output.renderOutput(dataTable, element);\n",
              "        const docLink = document.createElement('div');\n",
              "        docLink.innerHTML = docLinkHtml;\n",
              "        element.appendChild(docLink);\n",
              "      }\n",
              "    </script>\n",
              "  </div>\n",
              "\n",
              "    </div>\n",
              "  </div>\n"
            ]
          },
          "metadata": {},
          "execution_count": 4
        }
      ]
    },
    {
      "cell_type": "code",
      "execution_count": 5,
      "id": "995b1d39",
      "metadata": {
        "id": "995b1d39"
      },
      "outputs": [],
      "source": [
        "MAX_SEQ_LEN = 70\n"
      ]
    },
    {
      "cell_type": "code",
      "execution_count": 6,
      "id": "cf31a88b",
      "metadata": {
        "id": "cf31a88b"
      },
      "outputs": [],
      "source": [
        "def prepere_training_data(df,tokenizer):\n",
        "    name1_seq = tokenizer.texts_to_sequences(df['name1'])\n",
        "    name2_seq = tokenizer.texts_to_sequences(df['name2'])\n",
        "\n",
        "    name1_seq = pad_sequences(name1_seq,maxlen=MAX_SEQ_LEN)\n",
        "    name2_seq = pad_sequences(name2_seq,maxlen=MAX_SEQ_LEN)\n",
        "    return name1_seq,name2_seq,df['label'].values\n",
        "\n",
        "tokenizer = Tokenizer(char_level=True)\n",
        "tokenizer.fit_on_texts(df['name1'])\n",
        "train,test = train_test_split(df,test_size=0.2,stratify = df['label'])\n",
        "train_text2seq_1,train_text2seq_2,train_label = prepere_training_data(train,tokenizer)\n",
        "test_text2seq_1,test_text2seq_2,test_label = prepere_training_data(test,tokenizer)\n"
      ]
    },
    {
      "cell_type": "markdown",
      "id": "a5c46d26",
      "metadata": {
        "id": "a5c46d26"
      },
      "source": [
        "## Model"
      ]
    },
    {
      "cell_type": "code",
      "source": [
        "\n",
        "num_word = len(tokenizer.word_index)+1\n",
        "def euclidean_distance(vects):\n",
        "    x, y = vects\n",
        "    sum_square = tf.math.reduce_sum(tf.math.square(x - y), axis=1, keepdims=True)\n",
        "    return tf.math.sqrt(tf.math.maximum(sum_square, tf.keras.backend.epsilon()))\n",
        "\n",
        "input_1 = layers.Input((28, 28, 1))\n",
        "input_2 = layers.Input((28, 28, 1))\n",
        "\n",
        "inp_seq = layers.Input(shape=(MAX_SEQ_LEN,))\n",
        "x = layers.Embedding(num_word,output_dim=16,mask_zero=False)(inp_seq)\n",
        "x = layers.BatchNormalization()(x)\n",
        "x = layers.Bidirectional(layers.LSTM(64,return_sequences=True))(x)\n",
        "x = layers.Bidirectional(layers.LSTM(64,return_sequences=True))(x)\n",
        "x = layers.GlobalAveragePooling1D()(x)\n",
        "x = layers.Dense(128)(x)\n",
        "\n",
        "embed_network = keras.Model(inp_seq, x)\n",
        "\n",
        "inp_seq1 = layers.Input(shape=(MAX_SEQ_LEN,))\n",
        "inp_seq2 = layers.Input(shape=(MAX_SEQ_LEN,))\n",
        "\n",
        "network1 = embed_network(inp_seq1)\n",
        "network2 = embed_network(inp_seq2)\n",
        "\n",
        "\n",
        "merge = layers.Lambda(euclidean_distance)([network1, network2])\n",
        "merge = layers.BatchNormalization()(merge)\n",
        "out = layers.Dense(1,activation='sigmoid')(merge)\n",
        "\n",
        "model = Model(inputs=[inp_seq1,inp_seq2],outputs = out)\n",
        "opt = SGD(lr=0.01)\n",
        "# model.compile(optimizer=opt,loss='binary_crossentropy',metrics='acc')\n",
        "# model.fit([train_text2seq_1,train_text2seq_2,],train_label,epochs=5,batch_size=64,verbose=1,\n",
        "#           validation_data=([test_text2seq_1,test_text2seq_2],test_label))"
      ],
      "metadata": {
        "colab": {
          "base_uri": "https://localhost:8080/"
        },
        "id": "j3wLIPOsBrig",
        "outputId": "5093b791-9a30-4abe-82ec-bc22d1ddc2ef"
      },
      "id": "j3wLIPOsBrig",
      "execution_count": 7,
      "outputs": [
        {
          "output_type": "stream",
          "name": "stderr",
          "text": [
            "/usr/local/lib/python3.10/dist-packages/keras/optimizers/legacy/gradient_descent.py:114: UserWarning: The `lr` argument is deprecated, use `learning_rate` instead.\n",
            "  super().__init__(name, **kwargs)\n"
          ]
        }
      ]
    },
    {
      "cell_type": "code",
      "execution_count": null,
      "id": "724b71aa",
      "metadata": {
        "id": "724b71aa"
      },
      "outputs": [],
      "source": []
    },
    {
      "cell_type": "code",
      "execution_count": 8,
      "id": "c764ffe0",
      "metadata": {
        "id": "c764ffe0"
      },
      "outputs": [],
      "source": [
        "def loss(margin=1):\n",
        "    \"\"\"Provides 'contrastive_loss' an enclosing scope with variable 'margin'.\n",
        "\n",
        "    Arguments:\n",
        "        margin: Integer, defines the baseline for distance for which pairs\n",
        "                should be classified as dissimilar. - (default is 1).\n",
        "\n",
        "    Returns:\n",
        "        'contrastive_loss' function with data ('margin') attached.\n",
        "    \"\"\"\n",
        "\n",
        "    # Contrastive loss = mean( (1-true_value) * square(prediction) +\n",
        "    #                         true_value * square( max(margin-prediction, 0) ))\n",
        "    def contrastive_loss(y_true, y_pred):\n",
        "        \"\"\"Calculates the contrastive loss.\n",
        "\n",
        "        Arguments:\n",
        "            y_true: List of labels, each label is of type float32.\n",
        "            y_pred: List of predictions of same length as of y_true,\n",
        "                    each label is of type float32.\n",
        "\n",
        "        Returns:\n",
        "            A tensor containing contrastive loss as floating point value.\n",
        "        \"\"\"\n",
        "        y_pred = tf.cast(y_pred, tf.float32)\n",
        "        y_true = tf.cast(y_true, tf.float32)\n",
        "\n",
        "\n",
        "        square_pred = tf.math.square(y_pred)\n",
        "        margin_square = tf.math.square(tf.math.maximum(margin - (y_pred), 0))\n",
        "        return tf.math.reduce_mean(\n",
        "            (1 - y_true) * square_pred + (y_true) * margin_square\n",
        "        )\n",
        "\n",
        "    return contrastive_loss\n"
      ]
    },
    {
      "cell_type": "code",
      "execution_count": 9,
      "id": "98ff1d6e",
      "metadata": {
        "id": "98ff1d6e",
        "outputId": "f932401d-7a75-4465-a266-12ef56e3487e",
        "colab": {
          "base_uri": "https://localhost:8080/"
        }
      },
      "outputs": [
        {
          "output_type": "stream",
          "name": "stdout",
          "text": [
            "Model: \"model_1\"\n",
            "__________________________________________________________________________________________________\n",
            " Layer (type)                   Output Shape         Param #     Connected to                     \n",
            "==================================================================================================\n",
            " input_4 (InputLayer)           [(None, 70)]         0           []                               \n",
            "                                                                                                  \n",
            " input_5 (InputLayer)           [(None, 70)]         0           []                               \n",
            "                                                                                                  \n",
            " model (Functional)             (None, 128)          158096      ['input_4[0][0]',                \n",
            "                                                                  'input_5[0][0]']                \n",
            "                                                                                                  \n",
            " lambda (Lambda)                (None, 1)            0           ['model[0][0]',                  \n",
            "                                                                  'model[1][0]']                  \n",
            "                                                                                                  \n",
            " batch_normalization_1 (BatchNo  (None, 1)           4           ['lambda[0][0]']                 \n",
            " rmalization)                                                                                     \n",
            "                                                                                                  \n",
            " dense_1 (Dense)                (None, 1)            2           ['batch_normalization_1[0][0]']  \n",
            "                                                                                                  \n",
            "==================================================================================================\n",
            "Total params: 158,102\n",
            "Trainable params: 158,068\n",
            "Non-trainable params: 34\n",
            "__________________________________________________________________________________________________\n"
          ]
        }
      ],
      "source": [
        "margin =1\n",
        "model.compile(loss=loss(margin=margin), optimizer=\"adam\", metrics=[\"accuracy\"])#RMSprop\n",
        "model.summary()\n"
      ]
    },
    {
      "cell_type": "code",
      "execution_count": 10,
      "id": "ace9338f",
      "metadata": {
        "id": "ace9338f",
        "outputId": "72736947-2cb4-4a87-d65c-88ca75a9d54f",
        "colab": {
          "base_uri": "https://localhost:8080/"
        }
      },
      "outputs": [
        {
          "metadata": {
            "tags": null
          },
          "name": "stdout",
          "output_type": "stream",
          "text": [
            "Epoch 1/5\n",
            "1980/1980 [==============================] - 643s 316ms/step - loss: 0.1414 - accuracy: 0.8017 - val_loss: 0.1070 - val_accuracy: 0.8564\n",
            "Epoch 2/5\n",
            "1980/1980 [==============================] - 623s 315ms/step - loss: 0.1036 - accuracy: 0.8629 - val_loss: 0.0932 - val_accuracy: 0.8807\n",
            "Epoch 3/5\n",
            "1980/1980 [==============================] - 599s 303ms/step - loss: 0.0906 - accuracy: 0.8813 - val_loss: 0.0838 - val_accuracy: 0.8910\n",
            "Epoch 4/5\n",
            "1980/1980 [==============================] - 579s 292ms/step - loss: 0.0816 - accuracy: 0.8953 - val_loss: 0.0788 - val_accuracy: 0.8975\n",
            "Epoch 5/5\n",
            "1980/1980 [==============================] - 577s 291ms/step - loss: 0.0724 - accuracy: 0.9083 - val_loss: 0.0790 - val_accuracy: 0.8970\n"
          ]
        },
        {
          "data": {
            "text/plain": [
              "<keras.callbacks.History at 0x7ec69d662380>"
            ]
          },
          "execution_count": 10,
          "metadata": {},
          "output_type": "execute_result"
        }
      ],
      "source": [
        "model.fit([train_text2seq_1,train_text2seq_2,],train_label,epochs=5,batch_size=16,verbose=1,\n",
        "          validation_data=([test_text2seq_1,test_text2seq_2],test_label))\n"
      ]
    },
    {
      "cell_type": "code",
      "execution_count": null,
      "id": "6f5a0a92",
      "metadata": {
        "id": "6f5a0a92"
      },
      "outputs": [],
      "source": []
    }
  ],
  "metadata": {
    "kernelspec": {
      "display_name": "Python 3 (ipykernel)",
      "language": "python",
      "name": "python3"
    },
    "language_info": {
      "codemirror_mode": {
        "name": "ipython",
        "version": 3
      },
      "file_extension": ".py",
      "mimetype": "text/x-python",
      "name": "python",
      "nbconvert_exporter": "python",
      "pygments_lexer": "ipython3",
      "version": "3.10.9"
    },
    "colab": {
      "provenance": [],
      "include_colab_link": true
    }
  },
  "nbformat": 4,
  "nbformat_minor": 5
}