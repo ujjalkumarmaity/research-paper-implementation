{
  "cells": [
    {
      "cell_type": "markdown",
      "metadata": {
        "id": "view-in-github",
        "colab_type": "text"
      },
      "source": [
        "<a href=\"https://colab.research.google.com/github/ujjalkumarmaity/research-paper-implementation/blob/main/Manhattan-LSTM-Model/Manhattan-LSTM.ipynb\" target=\"_parent\"><img src=\"https://colab.research.google.com/assets/colab-badge.svg\" alt=\"Open In Colab\"/></a>"
      ]
    },
    {
      "cell_type": "markdown",
      "id": "9d1e0721",
      "metadata": {
        "id": "9d1e0721"
      },
      "source": [
        "## Siamese Recurrent Architectures for Learning Sentence Similarity\n",
        "\n",
        "https://ojs.aaai.org/index.php/AAAI/article/view/10350/10209"
      ]
    },
    {
      "cell_type": "markdown",
      "source": [],
      "metadata": {
        "id": "LWl5ugJX1Dyx"
      },
      "id": "LWl5ugJX1Dyx"
    },
    {
      "cell_type": "markdown",
      "source": [],
      "metadata": {
        "id": "yKNqEnnE1D2J"
      },
      "id": "yKNqEnnE1D2J"
    },
    {
      "cell_type": "markdown",
      "id": "e95ebf68",
      "metadata": {
        "id": "e95ebf68"
      },
      "source": [
        "<!-- ![image.png](attachment:image.png) -->\n",
        "<img src = 'model.png'>"
      ]
    },
    {
      "cell_type": "code",
      "execution_count": 1,
      "id": "c33b88ae",
      "metadata": {
        "id": "c33b88ae"
      },
      "outputs": [],
      "source": [
        "import pandas as pd\n",
        "import numpy as np\n",
        "import keras\n",
        "from keras.preprocessing.text import Tokenizer\n",
        "from keras.utils import pad_sequences\n",
        "from keras.models import Model\n",
        "from keras import layers\n",
        "from keras import backend as K\n",
        "import random\n",
        "from sklearn.model_selection import train_test_split\n",
        "from keras.optimizers import SGD\n",
        "import tensorflow as tf"
      ]
    },
    {
      "cell_type": "code",
      "source": [
        "df = pd.read_excel('https://github.com/ujjalkumarmaity/research-paper-implementation/raw/main/Manhattan-LSTM-Model/resume-similarity-dataset.xlsx')"
      ],
      "metadata": {
        "id": "utDwRhSAe8Kt"
      },
      "id": "utDwRhSAe8Kt",
      "execution_count": 2,
      "outputs": []
    },
    {
      "cell_type": "code",
      "source": [
        "df.head(3)"
      ],
      "metadata": {
        "colab": {
          "base_uri": "https://localhost:8080/",
          "height": 213
        },
        "id": "UAK4PxnhgJVU",
        "outputId": "132b83bf-c55a-498e-bbd4-ada4bd3743e6"
      },
      "id": "UAK4PxnhgJVU",
      "execution_count": 3,
      "outputs": [
        {
          "output_type": "execute_result",
          "data": {
            "text/plain": [
              "   Unnamed: 0                                            resume1  \\\n",
              "0           0  Skills * Programming Languages: Python (pandas...   \n",
              "1           1  Skills * Programming Languages: Python (pandas...   \n",
              "2           2  Skills * Programming Languages: Python (pandas...   \n",
              "\n",
              "         label1                                            resume2  \\\n",
              "0  Data Science  Skills * Programming Languages: Python (pandas...   \n",
              "1  Data Science  Education Details _x000D_\\nMay 2013 to May 201...   \n",
              "2  Data Science  Areas of Interest Deep Learning, Control Syste...   \n",
              "\n",
              "         label2  \n",
              "0  Data Science  \n",
              "1  Data Science  \n",
              "2  Data Science  "
            ],
            "text/html": [
              "\n",
              "  <div id=\"df-77e47c43-bbd5-4e6b-a5b6-579b54b498a4\" class=\"colab-df-container\">\n",
              "    <div>\n",
              "<style scoped>\n",
              "    .dataframe tbody tr th:only-of-type {\n",
              "        vertical-align: middle;\n",
              "    }\n",
              "\n",
              "    .dataframe tbody tr th {\n",
              "        vertical-align: top;\n",
              "    }\n",
              "\n",
              "    .dataframe thead th {\n",
              "        text-align: right;\n",
              "    }\n",
              "</style>\n",
              "<table border=\"1\" class=\"dataframe\">\n",
              "  <thead>\n",
              "    <tr style=\"text-align: right;\">\n",
              "      <th></th>\n",
              "      <th>Unnamed: 0</th>\n",
              "      <th>resume1</th>\n",
              "      <th>label1</th>\n",
              "      <th>resume2</th>\n",
              "      <th>label2</th>\n",
              "    </tr>\n",
              "  </thead>\n",
              "  <tbody>\n",
              "    <tr>\n",
              "      <th>0</th>\n",
              "      <td>0</td>\n",
              "      <td>Skills * Programming Languages: Python (pandas...</td>\n",
              "      <td>Data Science</td>\n",
              "      <td>Skills * Programming Languages: Python (pandas...</td>\n",
              "      <td>Data Science</td>\n",
              "    </tr>\n",
              "    <tr>\n",
              "      <th>1</th>\n",
              "      <td>1</td>\n",
              "      <td>Skills * Programming Languages: Python (pandas...</td>\n",
              "      <td>Data Science</td>\n",
              "      <td>Education Details _x000D_\\nMay 2013 to May 201...</td>\n",
              "      <td>Data Science</td>\n",
              "    </tr>\n",
              "    <tr>\n",
              "      <th>2</th>\n",
              "      <td>2</td>\n",
              "      <td>Skills * Programming Languages: Python (pandas...</td>\n",
              "      <td>Data Science</td>\n",
              "      <td>Areas of Interest Deep Learning, Control Syste...</td>\n",
              "      <td>Data Science</td>\n",
              "    </tr>\n",
              "  </tbody>\n",
              "</table>\n",
              "</div>\n",
              "    <div class=\"colab-df-buttons\">\n",
              "\n",
              "  <div class=\"colab-df-container\">\n",
              "    <button class=\"colab-df-convert\" onclick=\"convertToInteractive('df-77e47c43-bbd5-4e6b-a5b6-579b54b498a4')\"\n",
              "            title=\"Convert this dataframe to an interactive table.\"\n",
              "            style=\"display:none;\">\n",
              "\n",
              "  <svg xmlns=\"http://www.w3.org/2000/svg\" height=\"24px\" viewBox=\"0 -960 960 960\">\n",
              "    <path d=\"M120-120v-720h720v720H120Zm60-500h600v-160H180v160Zm220 220h160v-160H400v160Zm0 220h160v-160H400v160ZM180-400h160v-160H180v160Zm440 0h160v-160H620v160ZM180-180h160v-160H180v160Zm440 0h160v-160H620v160Z\"/>\n",
              "  </svg>\n",
              "    </button>\n",
              "\n",
              "  <style>\n",
              "    .colab-df-container {\n",
              "      display:flex;\n",
              "      gap: 12px;\n",
              "    }\n",
              "\n",
              "    .colab-df-convert {\n",
              "      background-color: #E8F0FE;\n",
              "      border: none;\n",
              "      border-radius: 50%;\n",
              "      cursor: pointer;\n",
              "      display: none;\n",
              "      fill: #1967D2;\n",
              "      height: 32px;\n",
              "      padding: 0 0 0 0;\n",
              "      width: 32px;\n",
              "    }\n",
              "\n",
              "    .colab-df-convert:hover {\n",
              "      background-color: #E2EBFA;\n",
              "      box-shadow: 0px 1px 2px rgba(60, 64, 67, 0.3), 0px 1px 3px 1px rgba(60, 64, 67, 0.15);\n",
              "      fill: #174EA6;\n",
              "    }\n",
              "\n",
              "    .colab-df-buttons div {\n",
              "      margin-bottom: 4px;\n",
              "    }\n",
              "\n",
              "    [theme=dark] .colab-df-convert {\n",
              "      background-color: #3B4455;\n",
              "      fill: #D2E3FC;\n",
              "    }\n",
              "\n",
              "    [theme=dark] .colab-df-convert:hover {\n",
              "      background-color: #434B5C;\n",
              "      box-shadow: 0px 1px 3px 1px rgba(0, 0, 0, 0.15);\n",
              "      filter: drop-shadow(0px 1px 2px rgba(0, 0, 0, 0.3));\n",
              "      fill: #FFFFFF;\n",
              "    }\n",
              "  </style>\n",
              "\n",
              "    <script>\n",
              "      const buttonEl =\n",
              "        document.querySelector('#df-77e47c43-bbd5-4e6b-a5b6-579b54b498a4 button.colab-df-convert');\n",
              "      buttonEl.style.display =\n",
              "        google.colab.kernel.accessAllowed ? 'block' : 'none';\n",
              "\n",
              "      async function convertToInteractive(key) {\n",
              "        const element = document.querySelector('#df-77e47c43-bbd5-4e6b-a5b6-579b54b498a4');\n",
              "        const dataTable =\n",
              "          await google.colab.kernel.invokeFunction('convertToInteractive',\n",
              "                                                    [key], {});\n",
              "        if (!dataTable) return;\n",
              "\n",
              "        const docLinkHtml = 'Like what you see? Visit the ' +\n",
              "          '<a target=\"_blank\" href=https://colab.research.google.com/notebooks/data_table.ipynb>data table notebook</a>'\n",
              "          + ' to learn more about interactive tables.';\n",
              "        element.innerHTML = '';\n",
              "        dataTable['output_type'] = 'display_data';\n",
              "        await google.colab.output.renderOutput(dataTable, element);\n",
              "        const docLink = document.createElement('div');\n",
              "        docLink.innerHTML = docLinkHtml;\n",
              "        element.appendChild(docLink);\n",
              "      }\n",
              "    </script>\n",
              "  </div>\n",
              "\n",
              "\n",
              "<div id=\"df-4188a5bb-f16d-482a-b9b1-2d7dd63c3e59\">\n",
              "  <button class=\"colab-df-quickchart\" onclick=\"quickchart('df-4188a5bb-f16d-482a-b9b1-2d7dd63c3e59')\"\n",
              "            title=\"Suggest charts.\"\n",
              "            style=\"display:none;\">\n",
              "\n",
              "<svg xmlns=\"http://www.w3.org/2000/svg\" height=\"24px\"viewBox=\"0 0 24 24\"\n",
              "     width=\"24px\">\n",
              "    <g>\n",
              "        <path d=\"M19 3H5c-1.1 0-2 .9-2 2v14c0 1.1.9 2 2 2h14c1.1 0 2-.9 2-2V5c0-1.1-.9-2-2-2zM9 17H7v-7h2v7zm4 0h-2V7h2v10zm4 0h-2v-4h2v4z\"/>\n",
              "    </g>\n",
              "</svg>\n",
              "  </button>\n",
              "\n",
              "<style>\n",
              "  .colab-df-quickchart {\n",
              "      --bg-color: #E8F0FE;\n",
              "      --fill-color: #1967D2;\n",
              "      --hover-bg-color: #E2EBFA;\n",
              "      --hover-fill-color: #174EA6;\n",
              "      --disabled-fill-color: #AAA;\n",
              "      --disabled-bg-color: #DDD;\n",
              "  }\n",
              "\n",
              "  [theme=dark] .colab-df-quickchart {\n",
              "      --bg-color: #3B4455;\n",
              "      --fill-color: #D2E3FC;\n",
              "      --hover-bg-color: #434B5C;\n",
              "      --hover-fill-color: #FFFFFF;\n",
              "      --disabled-bg-color: #3B4455;\n",
              "      --disabled-fill-color: #666;\n",
              "  }\n",
              "\n",
              "  .colab-df-quickchart {\n",
              "    background-color: var(--bg-color);\n",
              "    border: none;\n",
              "    border-radius: 50%;\n",
              "    cursor: pointer;\n",
              "    display: none;\n",
              "    fill: var(--fill-color);\n",
              "    height: 32px;\n",
              "    padding: 0;\n",
              "    width: 32px;\n",
              "  }\n",
              "\n",
              "  .colab-df-quickchart:hover {\n",
              "    background-color: var(--hover-bg-color);\n",
              "    box-shadow: 0 1px 2px rgba(60, 64, 67, 0.3), 0 1px 3px 1px rgba(60, 64, 67, 0.15);\n",
              "    fill: var(--button-hover-fill-color);\n",
              "  }\n",
              "\n",
              "  .colab-df-quickchart-complete:disabled,\n",
              "  .colab-df-quickchart-complete:disabled:hover {\n",
              "    background-color: var(--disabled-bg-color);\n",
              "    fill: var(--disabled-fill-color);\n",
              "    box-shadow: none;\n",
              "  }\n",
              "\n",
              "  .colab-df-spinner {\n",
              "    border: 2px solid var(--fill-color);\n",
              "    border-color: transparent;\n",
              "    border-bottom-color: var(--fill-color);\n",
              "    animation:\n",
              "      spin 1s steps(1) infinite;\n",
              "  }\n",
              "\n",
              "  @keyframes spin {\n",
              "    0% {\n",
              "      border-color: transparent;\n",
              "      border-bottom-color: var(--fill-color);\n",
              "      border-left-color: var(--fill-color);\n",
              "    }\n",
              "    20% {\n",
              "      border-color: transparent;\n",
              "      border-left-color: var(--fill-color);\n",
              "      border-top-color: var(--fill-color);\n",
              "    }\n",
              "    30% {\n",
              "      border-color: transparent;\n",
              "      border-left-color: var(--fill-color);\n",
              "      border-top-color: var(--fill-color);\n",
              "      border-right-color: var(--fill-color);\n",
              "    }\n",
              "    40% {\n",
              "      border-color: transparent;\n",
              "      border-right-color: var(--fill-color);\n",
              "      border-top-color: var(--fill-color);\n",
              "    }\n",
              "    60% {\n",
              "      border-color: transparent;\n",
              "      border-right-color: var(--fill-color);\n",
              "    }\n",
              "    80% {\n",
              "      border-color: transparent;\n",
              "      border-right-color: var(--fill-color);\n",
              "      border-bottom-color: var(--fill-color);\n",
              "    }\n",
              "    90% {\n",
              "      border-color: transparent;\n",
              "      border-bottom-color: var(--fill-color);\n",
              "    }\n",
              "  }\n",
              "</style>\n",
              "\n",
              "  <script>\n",
              "    async function quickchart(key) {\n",
              "      const quickchartButtonEl =\n",
              "        document.querySelector('#' + key + ' button');\n",
              "      quickchartButtonEl.disabled = true;  // To prevent multiple clicks.\n",
              "      quickchartButtonEl.classList.add('colab-df-spinner');\n",
              "      try {\n",
              "        const charts = await google.colab.kernel.invokeFunction(\n",
              "            'suggestCharts', [key], {});\n",
              "      } catch (error) {\n",
              "        console.error('Error during call to suggestCharts:', error);\n",
              "      }\n",
              "      quickchartButtonEl.classList.remove('colab-df-spinner');\n",
              "      quickchartButtonEl.classList.add('colab-df-quickchart-complete');\n",
              "    }\n",
              "    (() => {\n",
              "      let quickchartButtonEl =\n",
              "        document.querySelector('#df-4188a5bb-f16d-482a-b9b1-2d7dd63c3e59 button');\n",
              "      quickchartButtonEl.style.display =\n",
              "        google.colab.kernel.accessAllowed ? 'block' : 'none';\n",
              "    })();\n",
              "  </script>\n",
              "</div>\n",
              "    </div>\n",
              "  </div>\n"
            ]
          },
          "metadata": {},
          "execution_count": 3
        }
      ]
    },
    {
      "cell_type": "code",
      "source": [
        "df = df[['resume1','resume2','label1','label2']]"
      ],
      "metadata": {
        "id": "Lgli4TvjsYmm"
      },
      "id": "Lgli4TvjsYmm",
      "execution_count": 4,
      "outputs": []
    },
    {
      "cell_type": "code",
      "source": [
        "!wget http://nlp.stanford.edu/data/glove.6B.zip\n",
        "!unzip glove*.zip"
      ],
      "metadata": {
        "colab": {
          "base_uri": "https://localhost:8080/"
        },
        "id": "I0W0dz6xqYJW",
        "outputId": "ccbd5a1c-a109-49fe-ef0d-07a427a374e4"
      },
      "id": "I0W0dz6xqYJW",
      "execution_count": 5,
      "outputs": [
        {
          "output_type": "stream",
          "name": "stdout",
          "text": [
            "--2023-09-02 11:00:18--  http://nlp.stanford.edu/data/glove.6B.zip\n",
            "Resolving nlp.stanford.edu (nlp.stanford.edu)... 171.64.67.140\n",
            "Connecting to nlp.stanford.edu (nlp.stanford.edu)|171.64.67.140|:80... connected.\n",
            "HTTP request sent, awaiting response... 302 Found\n",
            "Location: https://nlp.stanford.edu/data/glove.6B.zip [following]\n",
            "--2023-09-02 11:00:18--  https://nlp.stanford.edu/data/glove.6B.zip\n",
            "Connecting to nlp.stanford.edu (nlp.stanford.edu)|171.64.67.140|:443... connected.\n",
            "HTTP request sent, awaiting response... 301 Moved Permanently\n",
            "Location: https://downloads.cs.stanford.edu/nlp/data/glove.6B.zip [following]\n",
            "--2023-09-02 11:00:18--  https://downloads.cs.stanford.edu/nlp/data/glove.6B.zip\n",
            "Resolving downloads.cs.stanford.edu (downloads.cs.stanford.edu)... 171.64.64.22\n",
            "Connecting to downloads.cs.stanford.edu (downloads.cs.stanford.edu)|171.64.64.22|:443... connected.\n",
            "HTTP request sent, awaiting response... 200 OK\n",
            "Length: 862182613 (822M) [application/zip]\n",
            "Saving to: ‘glove.6B.zip’\n",
            "\n",
            "glove.6B.zip        100%[===================>] 822.24M  5.02MB/s    in 2m 38s  \n",
            "\n",
            "2023-09-02 11:02:57 (5.19 MB/s) - ‘glove.6B.zip’ saved [862182613/862182613]\n",
            "\n",
            "Archive:  glove.6B.zip\n",
            "  inflating: glove.6B.50d.txt        \n",
            "  inflating: glove.6B.100d.txt       \n",
            "  inflating: glove.6B.200d.txt       \n",
            "  inflating: glove.6B.300d.txt       \n"
          ]
        }
      ]
    },
    {
      "cell_type": "code",
      "source": [
        "def load_embeddings(file_name):\n",
        "    embeddings_index = {}\n",
        "    f = open(file_name, encoding='utf-8')\n",
        "    for line in f:\n",
        "        word = line.split()\n",
        "        embeddings_index[word[0]] = np.asarray(word[1:],dtype='float32')\n",
        "    return embeddings_index\n",
        "file_name = '/content/glove.6B.100d.txt'\n",
        "embdding_mat = load_embeddings(file_name)"
      ],
      "metadata": {
        "id": "QWstvPVVix_l"
      },
      "id": "QWstvPVVix_l",
      "execution_count": 6,
      "outputs": []
    },
    {
      "cell_type": "code",
      "source": [
        "embdding_mat['python']"
      ],
      "metadata": {
        "colab": {
          "base_uri": "https://localhost:8080/"
        },
        "id": "KjmReDatr2__",
        "outputId": "0a1c2e65-9f6a-4516-874d-f9973d08d7af"
      },
      "id": "KjmReDatr2__",
      "execution_count": 7,
      "outputs": [
        {
          "output_type": "execute_result",
          "data": {
            "text/plain": [
              "array([ 0.24934  ,  0.68318  , -0.044711 , -1.3842   , -0.0073079,\n",
              "        0.651    , -0.33958  , -0.19785  , -0.33925  ,  0.26691  ,\n",
              "       -0.033062 ,  0.15915  ,  0.89547  ,  0.53999  , -0.55817  ,\n",
              "        0.46245  ,  0.36722  ,  0.1889   ,  0.83189  ,  0.81421  ,\n",
              "       -0.11835  , -0.53463  ,  0.24158  , -0.038864 ,  1.1907   ,\n",
              "        0.79353  , -0.12308  ,  0.6642   , -0.77619  , -0.45713  ,\n",
              "       -1.054    , -0.20557  , -0.13296  ,  0.12239  ,  0.88458  ,\n",
              "        1.024    ,  0.32288  ,  0.82105  , -0.069367 ,  0.024211 ,\n",
              "       -0.51418  ,  0.8727   ,  0.25759  ,  0.91526  , -0.64221  ,\n",
              "        0.041159 , -0.60208  ,  0.54631  ,  0.66076  ,  0.19796  ,\n",
              "       -1.1393   ,  0.79514  ,  0.45966  , -0.18463  , -0.64131  ,\n",
              "       -0.24929  , -0.40194  , -0.50786  ,  0.80579  ,  0.53365  ,\n",
              "        0.52732  ,  0.39247  , -0.29884  ,  0.009585 ,  0.99953  ,\n",
              "       -0.061279 ,  0.71936  ,  0.32901  , -0.052772 ,  0.67135  ,\n",
              "       -0.80251  , -0.25789  ,  0.49615  ,  0.48081  , -0.68403  ,\n",
              "       -0.012239 ,  0.048201 ,  0.29461  ,  0.20614  ,  0.33556  ,\n",
              "       -0.64167  , -0.64708  ,  0.13377  , -0.12574  , -0.46382  ,\n",
              "        1.3878   ,  0.95636  , -0.067869 , -0.0017411,  0.52965  ,\n",
              "        0.45668  ,  0.61041  , -0.11514  ,  0.42627  ,  0.17342  ,\n",
              "       -0.7995   , -0.24502  , -0.60886  , -0.38469  , -0.4797   ],\n",
              "      dtype=float32)"
            ]
          },
          "metadata": {},
          "execution_count": 7
        }
      ]
    },
    {
      "cell_type": "code",
      "execution_count": 8,
      "id": "9f46b003",
      "metadata": {
        "id": "9f46b003"
      },
      "outputs": [],
      "source": [
        "def prepare_dataset(df):\n",
        "    # df = pd.read_csv(path, sep='\\t', lineterminator='\\n',header=None)\n",
        "    # df = df.rename(columns = {'resume1':'name1','resume2':'name2',3:'label'})\n",
        "    x1 = []\n",
        "    x2 = []\n",
        "    label = []\n",
        "    resume1 = df.resume1.values.tolist()\n",
        "    resume2 = df.resume2.values.tolist()\n",
        "    label1 = df.label1.values.tolist()\n",
        "    label2 = df.label2.values.tolist()\n",
        "    for ind,(n1,n2) in enumerate(zip(resume1,resume2)):\n",
        "        if random.random()>0.5:\n",
        "            x1.append(n1)\n",
        "            x2.append(n2)\n",
        "        else:\n",
        "            x1.append(n2)\n",
        "            x2.append(n1)\n",
        "        if label1[ind]==label2[ind]:\n",
        "            label.append(1)\n",
        "        else:\n",
        "            label.append(0)\n",
        "    return pd.DataFrame({'resume1':x1,'resume2':x2,'label':label})"
      ]
    },
    {
      "cell_type": "code",
      "source": [
        "data = prepare_dataset(df)"
      ],
      "metadata": {
        "id": "ty42fqjvtT3A"
      },
      "id": "ty42fqjvtT3A",
      "execution_count": 15,
      "outputs": []
    },
    {
      "cell_type": "code",
      "source": [
        "data.label.value_counts()"
      ],
      "metadata": {
        "id": "vMHeuW6Ikpjq",
        "outputId": "b6bff6ba-40ef-48b5-dd32-50e52915e0c5",
        "colab": {
          "base_uri": "https://localhost:8080/"
        }
      },
      "id": "vMHeuW6Ikpjq",
      "execution_count": 16,
      "outputs": [
        {
          "output_type": "execute_result",
          "data": {
            "text/plain": [
              "0    883328\n",
              "1     42116\n",
              "Name: label, dtype: int64"
            ]
          },
          "metadata": {},
          "execution_count": 16
        }
      ]
    },
    {
      "cell_type": "code",
      "source": [
        "# down sample\n",
        "from sklearn.utils import resample\n",
        "match_label_data = data.loc[data.label==1]\n",
        "no_match_label_data = data.loc[data.label==0]\n",
        "no_match_label_data = resample(no_match_label_data,replace=True,n_samples=70000,random_state=13)\n",
        "df1 = pd.concat([match_label_data,no_match_label_data])"
      ],
      "metadata": {
        "id": "L9UHKixlme-h"
      },
      "id": "L9UHKixlme-h",
      "execution_count": 23,
      "outputs": []
    },
    {
      "cell_type": "code",
      "execution_count": 24,
      "id": "6c76118a",
      "metadata": {
        "id": "6c76118a",
        "colab": {
          "base_uri": "https://localhost:8080/",
          "height": 112
        },
        "outputId": "a65e5b01-f4aa-4371-9858-37ba302a18fd"
      },
      "outputs": [
        {
          "output_type": "execute_result",
          "data": {
            "text/plain": [
              "                                             resume1  \\\n",
              "0  Skills * Programming Languages: Python (pandas...   \n",
              "1  Skills * Programming Languages: Python (pandas...   \n",
              "\n",
              "                                             resume2  label  \n",
              "0  Skills * Programming Languages: Python (pandas...      1  \n",
              "1  Education Details _x000D_\\nMay 2013 to May 201...      1  "
            ],
            "text/html": [
              "\n",
              "  <div id=\"df-6a86e735-40ca-42c6-83b7-57845c36abfb\" class=\"colab-df-container\">\n",
              "    <div>\n",
              "<style scoped>\n",
              "    .dataframe tbody tr th:only-of-type {\n",
              "        vertical-align: middle;\n",
              "    }\n",
              "\n",
              "    .dataframe tbody tr th {\n",
              "        vertical-align: top;\n",
              "    }\n",
              "\n",
              "    .dataframe thead th {\n",
              "        text-align: right;\n",
              "    }\n",
              "</style>\n",
              "<table border=\"1\" class=\"dataframe\">\n",
              "  <thead>\n",
              "    <tr style=\"text-align: right;\">\n",
              "      <th></th>\n",
              "      <th>resume1</th>\n",
              "      <th>resume2</th>\n",
              "      <th>label</th>\n",
              "    </tr>\n",
              "  </thead>\n",
              "  <tbody>\n",
              "    <tr>\n",
              "      <th>0</th>\n",
              "      <td>Skills * Programming Languages: Python (pandas...</td>\n",
              "      <td>Skills * Programming Languages: Python (pandas...</td>\n",
              "      <td>1</td>\n",
              "    </tr>\n",
              "    <tr>\n",
              "      <th>1</th>\n",
              "      <td>Skills * Programming Languages: Python (pandas...</td>\n",
              "      <td>Education Details _x000D_\\nMay 2013 to May 201...</td>\n",
              "      <td>1</td>\n",
              "    </tr>\n",
              "  </tbody>\n",
              "</table>\n",
              "</div>\n",
              "    <div class=\"colab-df-buttons\">\n",
              "\n",
              "  <div class=\"colab-df-container\">\n",
              "    <button class=\"colab-df-convert\" onclick=\"convertToInteractive('df-6a86e735-40ca-42c6-83b7-57845c36abfb')\"\n",
              "            title=\"Convert this dataframe to an interactive table.\"\n",
              "            style=\"display:none;\">\n",
              "\n",
              "  <svg xmlns=\"http://www.w3.org/2000/svg\" height=\"24px\" viewBox=\"0 -960 960 960\">\n",
              "    <path d=\"M120-120v-720h720v720H120Zm60-500h600v-160H180v160Zm220 220h160v-160H400v160Zm0 220h160v-160H400v160ZM180-400h160v-160H180v160Zm440 0h160v-160H620v160ZM180-180h160v-160H180v160Zm440 0h160v-160H620v160Z\"/>\n",
              "  </svg>\n",
              "    </button>\n",
              "\n",
              "  <style>\n",
              "    .colab-df-container {\n",
              "      display:flex;\n",
              "      gap: 12px;\n",
              "    }\n",
              "\n",
              "    .colab-df-convert {\n",
              "      background-color: #E8F0FE;\n",
              "      border: none;\n",
              "      border-radius: 50%;\n",
              "      cursor: pointer;\n",
              "      display: none;\n",
              "      fill: #1967D2;\n",
              "      height: 32px;\n",
              "      padding: 0 0 0 0;\n",
              "      width: 32px;\n",
              "    }\n",
              "\n",
              "    .colab-df-convert:hover {\n",
              "      background-color: #E2EBFA;\n",
              "      box-shadow: 0px 1px 2px rgba(60, 64, 67, 0.3), 0px 1px 3px 1px rgba(60, 64, 67, 0.15);\n",
              "      fill: #174EA6;\n",
              "    }\n",
              "\n",
              "    .colab-df-buttons div {\n",
              "      margin-bottom: 4px;\n",
              "    }\n",
              "\n",
              "    [theme=dark] .colab-df-convert {\n",
              "      background-color: #3B4455;\n",
              "      fill: #D2E3FC;\n",
              "    }\n",
              "\n",
              "    [theme=dark] .colab-df-convert:hover {\n",
              "      background-color: #434B5C;\n",
              "      box-shadow: 0px 1px 3px 1px rgba(0, 0, 0, 0.15);\n",
              "      filter: drop-shadow(0px 1px 2px rgba(0, 0, 0, 0.3));\n",
              "      fill: #FFFFFF;\n",
              "    }\n",
              "  </style>\n",
              "\n",
              "    <script>\n",
              "      const buttonEl =\n",
              "        document.querySelector('#df-6a86e735-40ca-42c6-83b7-57845c36abfb button.colab-df-convert');\n",
              "      buttonEl.style.display =\n",
              "        google.colab.kernel.accessAllowed ? 'block' : 'none';\n",
              "\n",
              "      async function convertToInteractive(key) {\n",
              "        const element = document.querySelector('#df-6a86e735-40ca-42c6-83b7-57845c36abfb');\n",
              "        const dataTable =\n",
              "          await google.colab.kernel.invokeFunction('convertToInteractive',\n",
              "                                                    [key], {});\n",
              "        if (!dataTable) return;\n",
              "\n",
              "        const docLinkHtml = 'Like what you see? Visit the ' +\n",
              "          '<a target=\"_blank\" href=https://colab.research.google.com/notebooks/data_table.ipynb>data table notebook</a>'\n",
              "          + ' to learn more about interactive tables.';\n",
              "        element.innerHTML = '';\n",
              "        dataTable['output_type'] = 'display_data';\n",
              "        await google.colab.output.renderOutput(dataTable, element);\n",
              "        const docLink = document.createElement('div');\n",
              "        docLink.innerHTML = docLinkHtml;\n",
              "        element.appendChild(docLink);\n",
              "      }\n",
              "    </script>\n",
              "  </div>\n",
              "\n",
              "\n",
              "<div id=\"df-02fd72b0-2ade-4dec-82a2-6db919ba722b\">\n",
              "  <button class=\"colab-df-quickchart\" onclick=\"quickchart('df-02fd72b0-2ade-4dec-82a2-6db919ba722b')\"\n",
              "            title=\"Suggest charts.\"\n",
              "            style=\"display:none;\">\n",
              "\n",
              "<svg xmlns=\"http://www.w3.org/2000/svg\" height=\"24px\"viewBox=\"0 0 24 24\"\n",
              "     width=\"24px\">\n",
              "    <g>\n",
              "        <path d=\"M19 3H5c-1.1 0-2 .9-2 2v14c0 1.1.9 2 2 2h14c1.1 0 2-.9 2-2V5c0-1.1-.9-2-2-2zM9 17H7v-7h2v7zm4 0h-2V7h2v10zm4 0h-2v-4h2v4z\"/>\n",
              "    </g>\n",
              "</svg>\n",
              "  </button>\n",
              "\n",
              "<style>\n",
              "  .colab-df-quickchart {\n",
              "      --bg-color: #E8F0FE;\n",
              "      --fill-color: #1967D2;\n",
              "      --hover-bg-color: #E2EBFA;\n",
              "      --hover-fill-color: #174EA6;\n",
              "      --disabled-fill-color: #AAA;\n",
              "      --disabled-bg-color: #DDD;\n",
              "  }\n",
              "\n",
              "  [theme=dark] .colab-df-quickchart {\n",
              "      --bg-color: #3B4455;\n",
              "      --fill-color: #D2E3FC;\n",
              "      --hover-bg-color: #434B5C;\n",
              "      --hover-fill-color: #FFFFFF;\n",
              "      --disabled-bg-color: #3B4455;\n",
              "      --disabled-fill-color: #666;\n",
              "  }\n",
              "\n",
              "  .colab-df-quickchart {\n",
              "    background-color: var(--bg-color);\n",
              "    border: none;\n",
              "    border-radius: 50%;\n",
              "    cursor: pointer;\n",
              "    display: none;\n",
              "    fill: var(--fill-color);\n",
              "    height: 32px;\n",
              "    padding: 0;\n",
              "    width: 32px;\n",
              "  }\n",
              "\n",
              "  .colab-df-quickchart:hover {\n",
              "    background-color: var(--hover-bg-color);\n",
              "    box-shadow: 0 1px 2px rgba(60, 64, 67, 0.3), 0 1px 3px 1px rgba(60, 64, 67, 0.15);\n",
              "    fill: var(--button-hover-fill-color);\n",
              "  }\n",
              "\n",
              "  .colab-df-quickchart-complete:disabled,\n",
              "  .colab-df-quickchart-complete:disabled:hover {\n",
              "    background-color: var(--disabled-bg-color);\n",
              "    fill: var(--disabled-fill-color);\n",
              "    box-shadow: none;\n",
              "  }\n",
              "\n",
              "  .colab-df-spinner {\n",
              "    border: 2px solid var(--fill-color);\n",
              "    border-color: transparent;\n",
              "    border-bottom-color: var(--fill-color);\n",
              "    animation:\n",
              "      spin 1s steps(1) infinite;\n",
              "  }\n",
              "\n",
              "  @keyframes spin {\n",
              "    0% {\n",
              "      border-color: transparent;\n",
              "      border-bottom-color: var(--fill-color);\n",
              "      border-left-color: var(--fill-color);\n",
              "    }\n",
              "    20% {\n",
              "      border-color: transparent;\n",
              "      border-left-color: var(--fill-color);\n",
              "      border-top-color: var(--fill-color);\n",
              "    }\n",
              "    30% {\n",
              "      border-color: transparent;\n",
              "      border-left-color: var(--fill-color);\n",
              "      border-top-color: var(--fill-color);\n",
              "      border-right-color: var(--fill-color);\n",
              "    }\n",
              "    40% {\n",
              "      border-color: transparent;\n",
              "      border-right-color: var(--fill-color);\n",
              "      border-top-color: var(--fill-color);\n",
              "    }\n",
              "    60% {\n",
              "      border-color: transparent;\n",
              "      border-right-color: var(--fill-color);\n",
              "    }\n",
              "    80% {\n",
              "      border-color: transparent;\n",
              "      border-right-color: var(--fill-color);\n",
              "      border-bottom-color: var(--fill-color);\n",
              "    }\n",
              "    90% {\n",
              "      border-color: transparent;\n",
              "      border-bottom-color: var(--fill-color);\n",
              "    }\n",
              "  }\n",
              "</style>\n",
              "\n",
              "  <script>\n",
              "    async function quickchart(key) {\n",
              "      const quickchartButtonEl =\n",
              "        document.querySelector('#' + key + ' button');\n",
              "      quickchartButtonEl.disabled = true;  // To prevent multiple clicks.\n",
              "      quickchartButtonEl.classList.add('colab-df-spinner');\n",
              "      try {\n",
              "        const charts = await google.colab.kernel.invokeFunction(\n",
              "            'suggestCharts', [key], {});\n",
              "      } catch (error) {\n",
              "        console.error('Error during call to suggestCharts:', error);\n",
              "      }\n",
              "      quickchartButtonEl.classList.remove('colab-df-spinner');\n",
              "      quickchartButtonEl.classList.add('colab-df-quickchart-complete');\n",
              "    }\n",
              "    (() => {\n",
              "      let quickchartButtonEl =\n",
              "        document.querySelector('#df-02fd72b0-2ade-4dec-82a2-6db919ba722b button');\n",
              "      quickchartButtonEl.style.display =\n",
              "        google.colab.kernel.accessAllowed ? 'block' : 'none';\n",
              "    })();\n",
              "  </script>\n",
              "</div>\n",
              "    </div>\n",
              "  </div>\n"
            ]
          },
          "metadata": {},
          "execution_count": 24
        }
      ],
      "source": [
        "df1 = df1.reset_index(drop=True)\n",
        "df1.head(2)"
      ]
    },
    {
      "cell_type": "code",
      "source": [
        "import re\n",
        "import nltk\n",
        "from nltk.corpus import stopwords\n",
        "nltk.download('stopwords')\n",
        "stop_word = list(stopwords.words('english'))\n",
        "stop_word.extend(['skills'])\n",
        "def per_processing_data(text):\n",
        "    text = text.lower() #\n",
        "    text = re.sub(r'http\\S+','',text) # remove url\n",
        "    text = re.sub(r'[^\\w ]+', \" \", text) # remove spacial charecter\n",
        "    text = ' '.join(text.split()) # remove white space\n",
        "    text = ' '.join([i for i in text.split() if i not in stop_word]) #remove stopword\n",
        "    return text\n",
        "text = 'Skills * Programming Languages: Python (pandas'\n",
        "per_processing_data(text)"
      ],
      "metadata": {
        "colab": {
          "base_uri": "https://localhost:8080/",
          "height": 70
        },
        "id": "tloGO8VbvPiX",
        "outputId": "423c9d42-18f8-4439-dbdb-ea705cf734f8"
      },
      "id": "tloGO8VbvPiX",
      "execution_count": 25,
      "outputs": [
        {
          "output_type": "stream",
          "name": "stderr",
          "text": [
            "[nltk_data] Downloading package stopwords to /root/nltk_data...\n",
            "[nltk_data]   Package stopwords is already up-to-date!\n"
          ]
        },
        {
          "output_type": "execute_result",
          "data": {
            "text/plain": [
              "'programming languages python pandas'"
            ],
            "application/vnd.google.colaboratory.intrinsic+json": {
              "type": "string"
            }
          },
          "metadata": {},
          "execution_count": 25
        }
      ]
    },
    {
      "cell_type": "code",
      "source": [
        "df1['resume1'] = df1['resume1'].apply(per_processing_data)\n",
        "df1['resume2'] = df1['resume2'].apply(per_processing_data)"
      ],
      "metadata": {
        "id": "-627Afzzz1rX"
      },
      "id": "-627Afzzz1rX",
      "execution_count": 26,
      "outputs": []
    },
    {
      "cell_type": "code",
      "source": [
        "df1.to_excel('Manhattan-LSTM.xlsx',index=False)"
      ],
      "metadata": {
        "id": "QYL1WXUzqDcB"
      },
      "id": "QYL1WXUzqDcB",
      "execution_count": 30,
      "outputs": []
    },
    {
      "cell_type": "code",
      "source": [
        "df1.to_csv('Manhattan-LSTM.csv',index=False)"
      ],
      "metadata": {
        "id": "Bhi1JTWzpiDb"
      },
      "id": "Bhi1JTWzpiDb",
      "execution_count": 29,
      "outputs": []
    },
    {
      "cell_type": "code",
      "execution_count": 31,
      "id": "995b1d39",
      "metadata": {
        "id": "995b1d39"
      },
      "outputs": [],
      "source": [
        "MAX_SEQ_LEN = 1000"
      ]
    },
    {
      "cell_type": "code",
      "execution_count": 32,
      "id": "cf31a88b",
      "metadata": {
        "id": "cf31a88b"
      },
      "outputs": [],
      "source": [
        "def prepere_training_data(df,tokenizer):\n",
        "    name1_seq = tokenizer.texts_to_sequences(df['resume1'])\n",
        "    name2_seq = tokenizer.texts_to_sequences(df['resume2'])\n",
        "\n",
        "    name1_seq = pad_sequences(name1_seq,maxlen=MAX_SEQ_LEN)\n",
        "    name2_seq = pad_sequences(name2_seq,maxlen=MAX_SEQ_LEN)\n",
        "    return name1_seq,name2_seq,df['label'].values\n",
        "\n",
        "tokenizer = Tokenizer()\n",
        "tokenizer.fit_on_texts(df1['resume1'])\n",
        "train,test = train_test_split(df1,test_size=0.2,stratify = df1['label'])\n",
        "train_text2seq_1,train_text2seq_2,train_label = prepere_training_data(train,tokenizer)\n",
        "test_text2seq_1,test_text2seq_2,test_label = prepere_training_data(test,tokenizer)\n"
      ]
    },
    {
      "cell_type": "code",
      "source": [
        "train_text2seq_1[0]"
      ],
      "metadata": {
        "id": "nsGxCXVxtwTy"
      },
      "id": "nsGxCXVxtwTy",
      "execution_count": null,
      "outputs": []
    },
    {
      "cell_type": "code",
      "source": [
        "vocab_size = len(tokenizer.word_index)+1\n",
        "embdding_matrix = np.zeros((vocab_size,100))\n",
        "for word,ind in tokenizer.word_index.items():\n",
        "    if embdding_mat.get(word)is not None:\n",
        "        embdding_matrix[ind] = embdding_mat.get(word)"
      ],
      "metadata": {
        "id": "OwVINCP-sK2B"
      },
      "id": "OwVINCP-sK2B",
      "execution_count": 40,
      "outputs": []
    },
    {
      "cell_type": "markdown",
      "id": "a5c46d26",
      "metadata": {
        "id": "a5c46d26"
      },
      "source": [
        "## Model"
      ]
    },
    {
      "cell_type": "code",
      "source": [],
      "metadata": {
        "id": "nVJlrDOsvuIk"
      },
      "id": "nVJlrDOsvuIk",
      "execution_count": 42,
      "outputs": []
    },
    {
      "cell_type": "code",
      "source": [
        "import keras\n",
        "num_word = len(tokenizer.word_index)+1\n",
        "def euclidean_distance(vects):\n",
        "    x, y = vects\n",
        "    sum_square = tf.math.reduce_sum(tf.math.square(x - y), axis=1, keepdims=True)\n",
        "    return tf.math.sqrt(tf.math.maximum(sum_square, tf.keras.backend.epsilon()))\n",
        "\n",
        "inp_seq = layers.Input(shape=(MAX_SEQ_LEN,))\n",
        "x = layers.Embedding(input_dim=vocab_size, output_dim=100, embeddings_initializer=keras.initializers.Constant(embdding_matrix), trainable=False)(inp_seq)\n",
        "\n",
        "# x = layers.Embedding(num_word,output_dim=16,mask_zero=False)(inp_seq)\n",
        "x = layers.BatchNormalization()(x)\n",
        "x = layers.Bidirectional(layers.LSTM(128,return_sequences=True))(x)\n",
        "x = layers.Bidirectional(layers.LSTM(128,return_sequences=True))(x)\n",
        "x = layers.GlobalAveragePooling1D()(x)\n",
        "x = layers.Dense(512)(x)\n",
        "\n",
        "embed_network = keras.Model(inp_seq, x)\n",
        "\n",
        "inp_seq1 = layers.Input(shape=(MAX_SEQ_LEN,))\n",
        "inp_seq2 = layers.Input(shape=(MAX_SEQ_LEN,))\n",
        "\n",
        "network1 = embed_network(inp_seq1)\n",
        "network2 = embed_network(inp_seq2)\n",
        "\n",
        "\n",
        "merge = layers.Lambda(euclidean_distance)([network1, network2])\n",
        "merge = layers.BatchNormalization()(merge)\n",
        "out = layers.Dense(1,activation='sigmoid')(merge)\n",
        "\n",
        "model = Model(inputs=[inp_seq1,inp_seq2],outputs = out)\n",
        "opt = SGD(lr=0.01)\n",
        "# model.compile(optimizer=opt,loss='binary_crossentropy',metrics='acc')\n",
        "# model.fit([train_text2seq_1,train_text2seq_2,],train_label,epochs=5,batch_size=64,verbose=1,\n",
        "#           validation_data=([test_text2seq_1,test_text2seq_2],test_label))"
      ],
      "metadata": {
        "id": "j3wLIPOsBrig"
      },
      "id": "j3wLIPOsBrig",
      "execution_count": 48,
      "outputs": []
    },
    {
      "cell_type": "code",
      "execution_count": 49,
      "id": "c764ffe0",
      "metadata": {
        "id": "c764ffe0"
      },
      "outputs": [],
      "source": [
        "def loss(margin=1):\n",
        "    \"\"\"Provides 'contrastive_loss' an enclosing scope with variable 'margin'.\n",
        "\n",
        "    Arguments:\n",
        "        margin: Integer, defines the baseline for distance for which pairs\n",
        "                should be classified as dissimilar. - (default is 1).\n",
        "\n",
        "    Returns:\n",
        "        'contrastive_loss' function with data ('margin') attached.\n",
        "    \"\"\"\n",
        "\n",
        "    # Contrastive loss = mean( (1-true_value) * square(prediction) +\n",
        "    #                         true_value * square( max(margin-prediction, 0) ))\n",
        "    def contrastive_loss(y_true, y_pred):\n",
        "        \"\"\"Calculates the contrastive loss.\n",
        "\n",
        "        Arguments:\n",
        "            y_true: List of labels, each label is of type float32.\n",
        "            y_pred: List of predictions of same length as of y_true,\n",
        "                    each label is of type float32.\n",
        "\n",
        "        Returns:\n",
        "            A tensor containing contrastive loss as floating point value.\n",
        "        \"\"\"\n",
        "        y_pred = tf.cast(y_pred, tf.float32)\n",
        "        y_true = tf.cast(y_true, tf.float32)\n",
        "\n",
        "\n",
        "        square_pred = tf.math.square(y_pred)\n",
        "        margin_square = tf.math.square(tf.math.maximum(margin - (y_pred), 0))\n",
        "        return tf.math.reduce_mean(\n",
        "            (1 - y_true) * square_pred + (y_true) * margin_square\n",
        "        )\n",
        "\n",
        "    return contrastive_loss\n"
      ]
    },
    {
      "cell_type": "code",
      "execution_count": 50,
      "id": "98ff1d6e",
      "metadata": {
        "id": "98ff1d6e",
        "outputId": "84b974a8-8b02-4491-b925-0fc5e9fc38e6",
        "colab": {
          "base_uri": "https://localhost:8080/"
        }
      },
      "outputs": [
        {
          "output_type": "stream",
          "name": "stdout",
          "text": [
            "Model: \"model_3\"\n",
            "__________________________________________________________________________________________________\n",
            " Layer (type)                   Output Shape         Param #     Connected to                     \n",
            "==================================================================================================\n",
            " input_7 (InputLayer)           [(None, 1000)]       0           []                               \n",
            "                                                                                                  \n",
            " input_8 (InputLayer)           [(None, 1000)]       0           []                               \n",
            "                                                                                                  \n",
            " model_2 (Functional)           (None, 512)          1515020     ['input_7[0][0]',                \n",
            "                                                                  'input_8[0][0]']                \n",
            "                                                                                                  \n",
            " lambda_1 (Lambda)              (None, 1)            0           ['model_2[0][0]',                \n",
            "                                                                  'model_2[1][0]']                \n",
            "                                                                                                  \n",
            " batch_normalization_4 (BatchNo  (None, 1)           4           ['lambda_1[0][0]']               \n",
            " rmalization)                                                                                     \n",
            "                                                                                                  \n",
            " dense_3 (Dense)                (None, 1)            2           ['batch_normalization_4[0][0]']  \n",
            "                                                                                                  \n",
            "==================================================================================================\n",
            "Total params: 1,515,026\n",
            "Trainable params: 760,524\n",
            "Non-trainable params: 754,502\n",
            "__________________________________________________________________________________________________\n"
          ]
        }
      ],
      "source": [
        "margin =1\n",
        "model.compile(loss=loss(margin=margin), optimizer=\"adam\", metrics=[\"accuracy\"])#RMSprop\n",
        "model.summary()\n"
      ]
    },
    {
      "cell_type": "code",
      "execution_count": null,
      "id": "ace9338f",
      "metadata": {
        "id": "ace9338f",
        "outputId": "362e7cbf-cf61-4833-a0d3-a87fa6d1f48f",
        "colab": {
          "base_uri": "https://localhost:8080/"
        }
      },
      "outputs": [
        {
          "output_type": "stream",
          "name": "stdout",
          "text": [
            "Epoch 1/5\n"
          ]
        }
      ],
      "source": [
        "model.fit([train_text2seq_1,train_text2seq_2,],train_label,epochs=5,batch_size=128,verbose=1,\n",
        "          validation_data=([test_text2seq_1,test_text2seq_2],test_label))\n"
      ]
    },
    {
      "cell_type": "code",
      "execution_count": null,
      "id": "6f5a0a92",
      "metadata": {
        "id": "6f5a0a92"
      },
      "outputs": [],
      "source": []
    }
  ],
  "metadata": {
    "kernelspec": {
      "display_name": "Python 3 (ipykernel)",
      "language": "python",
      "name": "python3"
    },
    "language_info": {
      "codemirror_mode": {
        "name": "ipython",
        "version": 3
      },
      "file_extension": ".py",
      "mimetype": "text/x-python",
      "name": "python",
      "nbconvert_exporter": "python",
      "pygments_lexer": "ipython3",
      "version": "3.10.9"
    },
    "colab": {
      "provenance": [],
      "include_colab_link": true
    }
  },
  "nbformat": 4,
  "nbformat_minor": 5
}