{
 "cells": [
  {
   "cell_type": "markdown",
   "id": "43449891",
   "metadata": {},
   "source": [
    "# Text Segmentation as a Supervised Learning Task\n",
    "\n",
    "\n"
   ]
  },
  {
   "cell_type": "markdown",
   "id": "8221d3af",
   "metadata": {},
   "source": [
    "## Introduction\n",
    "\n",
    "Text segmentation is the task of dividing text into segments, such that each segment is topically coherent, and cutoff points indicate a change of topic\n",
    "\n",
    "In this work we \n",
    "- formulate text segmentation as a **supervised learning problem, where a label for every sentence in the document denotes whether it ends a segment**,\n",
    "- describe a new dataset, WIKI-727K, intended for training text segmentation models.\n",
    "\n",
    "https://github.com/koomri/text-segmentation"
   ]
  },
  {
   "cell_type": "markdown",
   "id": "d9675ac4",
   "metadata": {},
   "source": [
    "Architecture\n",
    "- Develop a hierarchical neural model in which a lower-level bidirectional LSTM creates sentence representations from word tokens,\n",
    "- then a higher-level LSTM consumes the sentence representations and labels each sentence."
   ]
  },
  {
   "cell_type": "markdown",
   "id": "bf0b773b",
   "metadata": {},
   "source": [
    "A **coherence score** is a measure of how well the words in a topic relate to each other. It is used to evaluate the quality and interpretability of topic models, which are techniques for finding the main themes in a collection of documents"
   ]
  },
  {
   "cell_type": "markdown",
   "id": "50b1fda4",
   "metadata": {},
   "source": [
    "## The WIKI-727K Dataset\n",
    "- It is a collection of 727,746 English Wikipedia documents, and their hierarchical segmentation,"
   ]
  },
  {
   "cell_type": "markdown",
   "id": "9231f8d6",
   "metadata": {},
   "source": [
    "## Neural Model for Text Segmentation\n",
    "We treat text segmentation as a supervised learning task, where the input $x$ is a document, represented as a sequence of n sentences $s_1, . . . , s_n$, and the label $y = (y_1, . . . , y_{n−1})$ is a segmentation of the document, represented by $n − 1$ binary values, where $yi$ denotes whether $si$ ends a segment."
   ]
  },
  {
   "cell_type": "markdown",
   "id": "4ccea06f",
   "metadata": {},
   "source": [
    "<img src='image/model.png'>"
   ]
  },
  {
   "cell_type": "markdown",
   "id": "8ade9eb7",
   "metadata": {},
   "source": [
    "Our neural model is composed of a hierarchy of two sub-networks,\n",
    "- The lower-level sub-network is a **two-layer bidirectional LSTM that generates sentence representations: for each sentence $s_i$** , the network consumes the words $w^{(i)}_1, . . . , w^{(i)}_k$ of $s_i$ one by one, and the final sentence representation $e_i$ is computed by max-pooling over the LSTM output\n",
    "- The higher-level sub-network is the segmentation prediction network. **This sub-network takes a sequence of sentence embeddings $e_1, . . . , e_n$ as input, and  feeds them into a two-layer bidirectional LSTM**. We ignore the last vector $(e_n)$, and apply a softmax function to obtain $n − 1$ segmentation probabilities"
   ]
  },
  {
   "cell_type": "markdown",
   "id": "ac416856",
   "metadata": {},
   "source": [
    "## Training\n",
    "-  for each sentence $s_i$, the probability $p_i$ that it ends a segment.\n",
    "- we minimize the sum of cross-entropy errors over each of the n − 1 relevant sentences:\n",
    "- Training is done by stochastic gradient descent in an end-to-end manner.\n",
    "- we use the GoogleNews word2vec pre-trained model.\n",
    "\n",
    "<img src='image/cost.png'>"
   ]
  },
  {
   "cell_type": "markdown",
   "id": "3d1b37c4",
   "metadata": {},
   "source": [
    "## Accuracy\n",
    "<img src='image/acc.png'>"
   ]
  },
  {
   "cell_type": "code",
   "execution_count": null,
   "id": "39799c5b",
   "metadata": {},
   "outputs": [],
   "source": []
  }
 ],
 "metadata": {
  "kernelspec": {
   "display_name": "Python 3 (ipykernel)",
   "language": "python",
   "name": "python3"
  },
  "language_info": {
   "codemirror_mode": {
    "name": "ipython",
    "version": 3
   },
   "file_extension": ".py",
   "mimetype": "text/x-python",
   "name": "python",
   "nbconvert_exporter": "python",
   "pygments_lexer": "ipython3",
   "version": "3.10.9"
  }
 },
 "nbformat": 4,
 "nbformat_minor": 5
}
